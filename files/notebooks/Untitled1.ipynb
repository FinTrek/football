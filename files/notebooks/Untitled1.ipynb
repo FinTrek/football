{
 "cells": [
  {
   "cell_type": "code",
   "execution_count": null,
   "metadata": {},
   "outputs": [],
   "source": [
    "import pandas as pd\n",
    "import numpy as np\n",
    "import sys\n",
    "path_project = \"/home/igorcosta/PycharmProjects/soccer/\"\n",
    "sys.path.insert(1, path_project)\n",
    "from core.config import PATH_BETEXPLORER_DATAFRAMES\n",
    "\n",
    "from scipy.stats import ttest_1samp, ttest_ind, ttest_rel, wilcoxon, mannwhitneyu\n",
    "\n",
    "from apps.betexplorer.notations import MatchNotation, OddsTypeNotation, OddsNotation,\\\n",
    "OddsSummaryNotation, PerformanceNotation, DataFrameNotation, concat"
   ]
  }
 ],
 "metadata": {
  "kernelspec": {
   "display_name": "Python 3",
   "language": "python",
   "name": "python3"
  }
 },
 "nbformat": 4,
 "nbformat_minor": 2
}
