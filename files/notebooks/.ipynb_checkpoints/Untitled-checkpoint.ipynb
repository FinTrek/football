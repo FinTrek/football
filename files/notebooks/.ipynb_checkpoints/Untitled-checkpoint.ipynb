{
 "cells": [
  {
   "cell_type": "code",
   "execution_count": 11,
   "metadata": {},
   "outputs": [],
   "source": [
    "import pandas as pd\n",
    "import numpy as np\n",
    "import sys\n",
    "import os\n",
    "import json\n",
    "\n",
    "path_project = \"/home/igorcosta/PycharmProjects/football/\"\n",
    "sys.path.insert(1, path_project)\n",
    "from core.config_loader import SysConfig\n"
   ]
  },
  {
   "cell_type": "code",
   "execution_count": 37,
   "metadata": {},
   "outputs": [],
   "source": [
    "exp1 = ['be_btts','total','performance']\n",
    "exp2 = ['be_btts_odds','market','market']\n",
    "exp3 = ['be_btts_odds','total','total']\n",
    "exps = [exp1, exp2, exp3]\n",
    "\n",
    "frame = list()\n",
    "for c in ['GaussianNB','LogisticRegression','mkc']:\n",
    "    for e in exps:\n",
    "        for ch in ['Brazil A', 'Brazil B', 'total']\n",
    "            \n",
    "            filename = 'total.json'\n",
    "            score_dir = os.path.join(SysConfig.path('results'), c, e[0], e[1])\n",
    "            score_file = os.path.join(score_dir, filename)\n",
    "            \n",
    "            with open(score_file, 'r') as outfile:\n",
    "                data = outfile.read()\n",
    "                res = json.loads(data)\n",
    "            frame.append([c, e[2], res['acc_test'], res['rps_test']])\n",
    "            \n",
    "resume = pd.DataFrame(frame, columns=['classifier','features','acc','rps'])"
   ]
  },
  {
   "cell_type": "code",
   "execution_count": 38,
   "metadata": {},
   "outputs": [
    {
     "name": "stdout",
     "output_type": "stream",
     "text": [
      "           classifier     features       acc       rps\n",
      "0          GaussianNB  performance  0.523378  0.134656\n",
      "1          GaussianNB       market  0.549977  0.154255\n",
      "2          GaussianNB        total  0.545753  0.165192\n",
      "3  LogisticRegression  performance  0.521032  0.124818\n",
      "4  LogisticRegression       market  0.552636  0.122608\n",
      "5  LogisticRegression        total  0.551384  0.123038\n",
      "6                 mkc  performance  0.552010  0.122598\n",
      "7                 mkc       market  0.552010  0.122598\n",
      "8                 mkc        total  0.552010  0.122598\n"
     ]
    }
   ],
   "source": [
    "print(resume)"
   ]
  }
 ],
 "metadata": {
  "kernelspec": {
   "display_name": "Python 3",
   "language": "python",
   "name": "python3"
  },
  "language_info": {
   "codemirror_mode": {
    "name": "ipython",
    "version": 3
   },
   "file_extension": ".py",
   "mimetype": "text/x-python",
   "name": "python",
   "nbconvert_exporter": "python",
   "pygments_lexer": "ipython3",
   "version": "3.7.3"
  }
 },
 "nbformat": 4,
 "nbformat_minor": 2
}
